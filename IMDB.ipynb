{
  "nbformat": 4,
  "nbformat_minor": 0,
  "metadata": {
    "colab": {
      "provenance": [],
      "gpuType": "T4"
    },
    "kernelspec": {
      "name": "python3",
      "display_name": "Python 3"
    },
    "language_info": {
      "name": "python"
    },
    "accelerator": "GPU"
  },
  "cells": [
    {
      "cell_type": "code",
      "source": [
        "!pip install kaggle --quiet"
      ],
      "metadata": {
        "id": "V3uI52eKYcmw"
      },
      "execution_count": 7,
      "outputs": []
    },
    {
      "cell_type": "code",
      "source": [
        "import pandas as pd\n",
        "import numpy as np\n",
        "import re\n",
        "import nltk\n",
        "import string\n",
        "\n",
        "from nltk.corpus import stopwords\n",
        "from sklearn.model_selection import train_test_split\n",
        "\n",
        "nltk.download('stopwords')\n",
        "\n",
        "# =======================================\n",
        "# 2. Mount Google Drive (if dataset is in Drive)\n",
        "# =======================================\n",
        "from google.colab import drive\n",
        "drive.mount('/content/drive')\n",
        "\n",
        "# Example path (adjust if your dataset is in another folder)\n",
        "dataset_path = \"/content/drive/MyDrive/IMDB Dataset.csv\"\n",
        "\n",
        "# =======================================\n",
        "# 3. Load Dataset\n",
        "# =======================================\n",
        "df = pd.read_csv(dataset_path)\n",
        "\n",
        "# Show first 5 rows\n",
        "print(\"Dataset Shape:\", df.shape)\n",
        "print(df.head())"
      ],
      "metadata": {
        "colab": {
          "base_uri": "https://localhost:8080/"
        },
        "id": "2yfsmqhPc839",
        "outputId": "f5488b19-8126-4d84-cce4-368c5dccb88b"
      },
      "execution_count": 8,
      "outputs": [
        {
          "output_type": "stream",
          "name": "stderr",
          "text": [
            "[nltk_data] Downloading package stopwords to /root/nltk_data...\n",
            "[nltk_data]   Package stopwords is already up-to-date!\n"
          ]
        },
        {
          "output_type": "stream",
          "name": "stdout",
          "text": [
            "Drive already mounted at /content/drive; to attempt to forcibly remount, call drive.mount(\"/content/drive\", force_remount=True).\n",
            "Dataset Shape: (50000, 2)\n",
            "                                              review sentiment\n",
            "0  One of the other reviewers has mentioned that ...  positive\n",
            "1  A wonderful little production. <br /><br />The...  positive\n",
            "2  I thought this was a wonderful way to spend ti...  positive\n",
            "3  Basically there's a family where a little boy ...  negative\n",
            "4  Petter Mattei's \"Love in the Time of Money\" is...  positive\n"
          ]
        }
      ]
    },
    {
      "cell_type": "code",
      "source": [
        "\n",
        "# =======================================\n",
        "# 4. Check Class Distribution\n",
        "# =======================================\n",
        "print(\"\\nClass Distribution:\")\n",
        "print(df['sentiment'].value_counts())\n",
        "\n",
        "# Convert sentiment to numeric: positive → 1, negative → 0\n",
        "df['sentiment'] = df['sentiment'].map({'positive': 1, 'negative': 0})\n",
        "\n",
        "# =======================================\n",
        "# 5. Preprocessing Function\n",
        "# =======================================\n",
        "stop_words = set(stopwords.words(\"english\"))\n",
        "\n",
        "def preprocess_text(text):\n",
        "    # Lowercase\n",
        "    text = text.lower()\n",
        "    # Remove HTML tags\n",
        "    text = re.sub(r\"<.*?>\", \" \", text)\n",
        "    # Remove punctuation\n",
        "    text = text.translate(str.maketrans(\"\", \"\", string.punctuation))\n",
        "    # Remove numbers\n",
        "    text = re.sub(r\"\\d+\", \" \", text)\n",
        "    # Remove extra spaces\n",
        "    text = re.sub(r\"\\s+\", \" \", text).strip()\n",
        "    # Remove stopwords\n",
        "    words = [word for word in text.split() if word not in stop_words]\n",
        "    return \" \".join(words)\n",
        "\n",
        "# Apply preprocessing\n",
        "df['clean_review'] = df['review'].apply(preprocess_text)\n",
        "\n",
        "# =======================================\n",
        "# 6. Show Processed Data\n",
        "# =======================================\n",
        "print(\"\\nSample after preprocessing:\")\n",
        "print(df[['review', 'clean_review', 'sentiment']].head())"
      ],
      "metadata": {
        "id": "BUDaWaFyeLym",
        "colab": {
          "base_uri": "https://localhost:8080/"
        },
        "outputId": "ece76c5b-1097-430e-d508-0dc50a9378fd"
      },
      "execution_count": 9,
      "outputs": [
        {
          "output_type": "stream",
          "name": "stdout",
          "text": [
            "\n",
            "Class Distribution:\n",
            "sentiment\n",
            "positive    25000\n",
            "negative    25000\n",
            "Name: count, dtype: int64\n",
            "\n",
            "Sample after preprocessing:\n",
            "                                              review  \\\n",
            "0  One of the other reviewers has mentioned that ...   \n",
            "1  A wonderful little production. <br /><br />The...   \n",
            "2  I thought this was a wonderful way to spend ti...   \n",
            "3  Basically there's a family where a little boy ...   \n",
            "4  Petter Mattei's \"Love in the Time of Money\" is...   \n",
            "\n",
            "                                        clean_review  sentiment  \n",
            "0  one reviewers mentioned watching oz episode yo...          1  \n",
            "1  wonderful little production filming technique ...          1  \n",
            "2  thought wonderful way spend time hot summer we...          1  \n",
            "3  basically theres family little boy jake thinks...          0  \n",
            "4  petter matteis love time money visually stunni...          1  \n"
          ]
        }
      ]
    },
    {
      "cell_type": "code",
      "source": [
        "# =======================================\n",
        "# 1. Install & Import PyTorch\n",
        "# =======================================\n",
        "import torch\n",
        "import torch.nn as nn\n",
        "import torch.optim as optim\n",
        "from torch.utils.data import DataLoader, TensorDataset\n",
        "from sklearn.model_selection import train_test_split\n",
        "from tensorflow.keras.preprocessing.text import Tokenizer\n",
        "from tensorflow.keras.preprocessing.sequence import pad_sequences\n",
        "\n",
        "# Check if CUDA is available\n",
        "\n",
        "# ✅ Define device here\n",
        "device = torch.device(\"cuda\" if torch.cuda.is_available() else \"cpu\")\n",
        "print(\"Using device:\", device)\n",
        "\n",
        "if torch.cuda.is_available():\n",
        "    print(\"✅ CUDA is available\")\n",
        "    print(\"Number of GPUs:\", torch.cuda.device_count())\n",
        "    for i in range(torch.cuda.device_count()):\n",
        "        print(f\"GPU {i}: {torch.cuda.get_device_name(i)}\")\n",
        "else:\n",
        "    print(\"❌ No GPU found, using CPU\")\n",
        "\n",
        "# =======================================\n",
        "# 2. Tokenization + Padding\n",
        "# =======================================\n",
        "MAX_WORDS = 10000   # keep top 10k words\n",
        "MAX_LEN = 200       # max words per review\n",
        "\n",
        "tokenizer = Tokenizer(num_words=MAX_WORDS, oov_token=\"<OOV>\")\n",
        "tokenizer.fit_on_texts(df['clean_review'])\n",
        "\n",
        "X = tokenizer.texts_to_sequences(df['clean_review'])\n",
        "X = pad_sequences(X, maxlen=MAX_LEN, padding='post', truncating='post')\n",
        "y = df['sentiment'].values\n",
        "\n",
        "print(\"Shape of X:\", X.shape)\n",
        "print(\"Shape of y:\", y.shape)\n",
        "\n",
        "# =======================================\n",
        "# 3. Train-Test Split\n",
        "# =======================================\n",
        "X_train, X_test, y_train, y_test = train_test_split(X, y, test_size=0.2, random_state=42)\n",
        "\n",
        "# Convert to Torch tensors\n",
        "X_train = torch.tensor(X_train, dtype=torch.long)\n",
        "y_train = torch.tensor(y_train, dtype=torch.float32)\n",
        "X_test = torch.tensor(X_test, dtype=torch.long)\n",
        "y_test = torch.tensor(y_test, dtype=torch.float32)\n",
        "\n",
        "# DataLoader (for batching)\n",
        "train_data = TensorDataset(X_train, y_train)\n",
        "test_data = TensorDataset(X_test, y_test)\n",
        "train_loader = DataLoader(train_data, batch_size=64, shuffle=True)\n",
        "test_loader = DataLoader(test_data, batch_size=64)\n",
        "\n",
        "# =======================================\n",
        "# 4. Build a Simple LSTM Model\n",
        "# =======================================\n",
        "class SentimentModel(nn.Module):\n",
        "    def __init__(self, vocab_size, embed_dim, hidden_dim, output_dim):\n",
        "        super(SentimentModel, self).__init__()\n",
        "        self.embedding = nn.Embedding(vocab_size, embed_dim)\n",
        "        self.lstm = nn.LSTM(embed_dim, hidden_dim, batch_first=True)\n",
        "        self.fc = nn.Linear(hidden_dim, output_dim)\n",
        "        self.sigmoid = nn.Sigmoid()\n",
        "\n",
        "    def forward(self, x):\n",
        "        x = self.embedding(x)\n",
        "        _, (hidden, _) = self.lstm(x)\n",
        "        out = self.fc(hidden[-1])\n",
        "        return self.sigmoid(out)\n",
        "\n",
        "model = SentimentModel(vocab_size=MAX_WORDS, embed_dim=128, hidden_dim=128, output_dim=1)\n",
        "model.to(device)\n",
        "\n",
        "# =======================================\n",
        "# 5. Loss + Optimizer\n",
        "# =======================================\n",
        "criterion = nn.BCELoss()\n",
        "optimizer = optim.Adam(model.parameters(), lr=0.001)\n",
        "\n",
        "# =======================================\n",
        "# 6. Training Loop\n",
        "# =======================================\n",
        "EPOCHS = 3\n",
        "for epoch in range(EPOCHS):\n",
        "    model.train()\n",
        "    total_loss = 0\n",
        "    for X_batch, y_batch in train_loader:\n",
        "        X_batch, y_batch = X_batch.to(device), y_batch.to(device)\n",
        "\n",
        "        optimizer.zero_grad()\n",
        "        predictions = model(X_batch).squeeze()\n",
        "        loss = criterion(predictions, y_batch)\n",
        "        loss.backward()\n",
        "        optimizer.step()\n",
        "\n",
        "        total_loss += loss.item()\n",
        "    print(f\"Epoch {epoch+1}/{EPOCHS}, Loss: {total_loss/len(train_loader):.4f}\")\n",
        "\n",
        "print(\"✅ Training complete!\")\n"
      ],
      "metadata": {
        "id": "y6YYYM0Rz1Ad",
        "colab": {
          "base_uri": "https://localhost:8080/"
        },
        "outputId": "1df850d6-b1b4-417c-87b8-49408bf242ed"
      },
      "execution_count": 10,
      "outputs": [
        {
          "output_type": "stream",
          "name": "stdout",
          "text": [
            "Using device: cuda\n",
            "✅ CUDA is available\n",
            "Number of GPUs: 1\n",
            "GPU 0: Tesla T4\n",
            "Shape of X: (50000, 200)\n",
            "Shape of y: (50000,)\n",
            "Epoch 1/3, Loss: 0.6932\n",
            "Epoch 2/3, Loss: 0.6824\n",
            "Epoch 3/3, Loss: 0.4870\n",
            "✅ Training complete!\n"
          ]
        }
      ]
    },
    {
      "cell_type": "code",
      "source": [
        "import threading\n",
        "import time\n",
        "import matplotlib.pyplot as plt\n",
        "\n",
        "# =======================================\n",
        "# 2. Define Train Function\n",
        "# =======================================\n",
        "def train_model(hidden_dim, results_dict, key):\n",
        "    model = SentimentModel(vocab_size=MAX_WORDS, embed_dim=128, hidden_dim=hidden_dim, output_dim=1)\n",
        "    model.to(\"cpu\")   # Force CPU for task parallelism\n",
        "    criterion = nn.BCELoss()\n",
        "    optimizer = optim.Adam(model.parameters(), lr=0.001)\n",
        "\n",
        "    start = time.time()\n",
        "    for epoch in range(2):  # keep small for demo\n",
        "        model.train()\n",
        "        total_loss = 0\n",
        "        for X_batch, y_batch in train_loader:\n",
        "            X_batch, y_batch = X_batch.to(\"cpu\"), y_batch.to(\"cpu\")\n",
        "\n",
        "            optimizer.zero_grad()\n",
        "            predictions = model(X_batch).squeeze()\n",
        "            loss = criterion(predictions, y_batch)\n",
        "            loss.backward()\n",
        "            optimizer.step()\n",
        "\n",
        "            total_loss += loss.item()\n",
        "        print(f\"[Model {hidden_dim}] Epoch {epoch+1}, Loss={total_loss/len(train_loader):.4f}\")\n",
        "    end = time.time()\n",
        "\n",
        "    results_dict[key] = end - start\n",
        "\n",
        "# =======================================\n",
        "# 3. Task Parallelism with Threads\n",
        "# =======================================\n",
        "results = {}\n",
        "\n",
        "# Launch two threads: training two models with different hidden_dim\n",
        "t1 = threading.Thread(target=train_model, args=(64, results, \"Model-64\"))\n",
        "t2 = threading.Thread(target=train_model, args=(128, results, \"Model-128\"))\n",
        "\n",
        "start_cpu = time.time()\n",
        "t1.start()\n",
        "t2.start()\n",
        "t1.join()\n",
        "t2.join()\n",
        "end_cpu = time.time()\n",
        "\n",
        "print(\"\\nTask Parallelism (CPU Multi-threading) completed!\")\n",
        "print(\"Individual runtimes:\", results)\n",
        "print(\"Total CPU parallel runtime:\", end_cpu - start_cpu)"
      ],
      "metadata": {
        "colab": {
          "base_uri": "https://localhost:8080/"
        },
        "id": "TenTKn-zioD3",
        "outputId": "b9edc703-b848-4f39-a7a2-3e312445560f"
      },
      "execution_count": 11,
      "outputs": [
        {
          "output_type": "stream",
          "name": "stdout",
          "text": [
            "[Model 64] Epoch 1, Loss=0.6930\n",
            "[Model 64] Epoch 2, Loss=0.6846\n",
            "[Model 128] Epoch 1, Loss=0.6935\n",
            "[Model 128] Epoch 2, Loss=0.6895\n",
            "\n",
            "Task Parallelism (CPU Multi-threading) completed!\n",
            "Individual runtimes: {'Model-64': 405.2075443267822, 'Model-128': 984.9243006706238}\n",
            "Total CPU parallel runtime: 984.9488835334778\n"
          ]
        }
      ]
    },
    {
      "cell_type": "code",
      "source": [
        "\n",
        "# =======================================\n",
        "# 4. GPU Training Runtime (for comparison)\n",
        "# =======================================\n",
        "def gpu_training():\n",
        "    model = SentimentModel(vocab_size=MAX_WORDS, embed_dim=128, hidden_dim=128, output_dim=1)\n",
        "    model.to(\"cuda\")\n",
        "    criterion = nn.BCELoss()\n",
        "    optimizer = optim.Adam(model.parameters(), lr=0.001)\n",
        "\n",
        "    start = time.time()\n",
        "    for epoch in range(2):\n",
        "        model.train()\n",
        "        total_loss = 0\n",
        "        for X_batch, y_batch in train_loader:\n",
        "            X_batch, y_batch = X_batch.to(\"cuda\"), y_batch.to(\"cuda\")\n",
        "\n",
        "            optimizer.zero_grad()\n",
        "            predictions = model(X_batch).squeeze()\n",
        "            loss = criterion(predictions, y_batch)\n",
        "            loss.backward()\n",
        "            optimizer.step()\n",
        "            total_loss += loss.item()\n",
        "        print(f\"[GPU] Epoch {epoch+1}, Loss={total_loss/len(train_loader):.4f}\")\n",
        "    end = time.time()\n",
        "    return end - start\n",
        "\n",
        "gpu_time = gpu_training()\n",
        "print(\"\\nGPU runtime:\", gpu_time)\n"
      ],
      "metadata": {
        "colab": {
          "base_uri": "https://localhost:8080/"
        },
        "id": "ws7cZYDAmwJ8",
        "outputId": "d730f867-279a-4213-856a-4b6c452173da"
      },
      "execution_count": 12,
      "outputs": [
        {
          "output_type": "stream",
          "name": "stdout",
          "text": [
            "[GPU] Epoch 1, Loss=0.6925\n",
            "[GPU] Epoch 2, Loss=0.6150\n",
            "\n",
            "GPU runtime: 8.79768967628479\n"
          ]
        }
      ]
    },
    {
      "cell_type": "code",
      "source": [
        "# =======================================\n",
        "# 5. Plot CPU vs GPU Runtimes\n",
        "# =======================================\n",
        "labels = [\"CPU Task Parallel\", \"GPU CUDA\"]\n",
        "times = [end_cpu - start_cpu, gpu_time]\n",
        "\n",
        "plt.bar(labels, times, color=[\"orange\", \"blue\"])\n",
        "plt.ylabel(\"Runtime (seconds)\")\n",
        "plt.title(\"CPU vs GPU Runtime Comparison\")\n",
        "plt.show()"
      ],
      "metadata": {
        "colab": {
          "base_uri": "https://localhost:8080/",
          "height": 452
        },
        "id": "_BcFDVzdnAAP",
        "outputId": "91a73a4b-7da5-4d07-a0e7-816e1ebac1e0"
      },
      "execution_count": 13,
      "outputs": [
        {
          "output_type": "display_data",
          "data": {
            "text/plain": [
              "<Figure size 640x480 with 1 Axes>"
            ],
            "image/png": "[encoded data removed]"
          },
          "metadata": {}
        }
      ]
    }
  ]
}